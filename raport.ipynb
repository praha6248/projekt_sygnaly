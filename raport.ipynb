{
 "cells": [
  {
   "cell_type": "markdown",
   "id": "2f50273a-1995-47de-882d-9fe76aa2ac08",
   "metadata": {},
   "source": [
    "# TECHNIKI PROGRAMOWANIA - projekt 3\n",
    "### Natalia Płocha 197663\n",
    "### Zuzanna Czaja 199312\n",
    "## Wizualizacja sygnału z wykorzystaniem biblioteki matplotplusplus\n",
    "przykład wizualizacji sygnału dźwiękowego"
   ]
  },
  {
   "cell_type": "code",
   "execution_count": 6,
   "id": "1fd03c16-99c5-4a44-9799-49f69d651c4a",
   "metadata": {},
   "outputs": [
    {
     "ename": "NameError",
     "evalue": "name 'lib' is not defined",
     "output_type": "error",
     "traceback": [
      "\u001b[1;31m---------------------------------------------------------------------------\u001b[0m",
      "\u001b[1;31mNameError\u001b[0m                                 Traceback (most recent call last)",
      "Cell \u001b[1;32mIn[6], line 1\u001b[0m\n\u001b[1;32m----> 1\u001b[0m \u001b[43mlib\u001b[49m\u001b[38;5;241m.\u001b[39mplot(wave)\n\u001b[0;32m      2\u001b[0m dft_wave\u001b[38;5;241m=\u001b[39mlib\u001b[38;5;241m.\u001b[39mDFT(wave)\n\u001b[0;32m      3\u001b[0m lib\u001b[38;5;241m.\u001b[39mplot(dft_wave)\n",
      "\u001b[1;31mNameError\u001b[0m: name 'lib' is not defined"
     ]
    }
   ],
   "source": []
  },
  {
   "cell_type": "code",
   "execution_count": null,
   "id": "2b089655-3989-4541-8eae-c8c866dab205",
   "metadata": {},
   "outputs": [],
   "source": []
  }
 ],
 "metadata": {
  "kernelspec": {
   "display_name": "Python 3 (ipykernel)",
   "language": "python",
   "name": "python3"
  },
  "language_info": {
   "codemirror_mode": {
    "name": "ipython",
    "version": 3
   },
   "file_extension": ".py",
   "mimetype": "text/x-python",
   "name": "python",
   "nbconvert_exporter": "python",
   "pygments_lexer": "ipython3",
   "version": "3.12.2"
  }
 },
 "nbformat": 4,
 "nbformat_minor": 5
}
